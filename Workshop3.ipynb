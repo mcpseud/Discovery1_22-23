{
 "cells": [
  {
   "cell_type": "markdown",
   "id": "2d5dbdb3",
   "metadata": {},
   "source": [
    "# Workshop 3: How can we slow the spread of antimicrobial resistance?\n",
    "\n",
    "In Lecture 3 we learned about how resistance spreads. Fundamentally the main driver of resistance is \n",
    "antimicrobial usage – if we didn't use antimicrobials at all then resistance would not be spreading. However, antimicrobial usage is essential for treating and preventing infections, so we need to devise clever strategies to minimise the speed of spread of antimicrobial resistance while continuing to use them. In this workshop you will try to design a strategy of this sort.\n",
    "\n",
    "In the workshop you will run a pre-coded computer model of the spread of antimicrobial resistance in a hospital. This model captures the scenario we discussed in Lecture 3 of the spread of both antimicrobial resistant and antimicrobial susceptible bacteria. Working in groups you will decide on a strategy for which antimicrobials should be deployed where in the hospital based on information available to you on current levels of resistance in the hospital. You will learn how to code this as a function in Python and test if it helps reduce deaths in the hospital compared to baseline antimicrobial usage practices.\n",
    "\n",
    "\n",
    "#### Intended Learning Outcomes\n",
    "\n",
    "By the end of this workshop, you should be able to:\n",
    "\n",
    "* Run simulation models in python and plot their behaviour\n",
    "* Write your own function in Python\n",
    "* Iteratively modify and evaluate function code to improve performance\n",
    "\n",
    "\n",
    "### Working as a group\n",
    "\n",
    "Your task today is as much conceptual as a coding task. You need to think about what strategy for using antibiotics might help slow the spread of resistance.\n",
    "\n",
    "**Discuss your code, ideas and answers with other members of the group.** Peer assistance (not copying answers but talking through your approaches to the problem) can help avoid you getting stuck, increase how much you learn from the session and make it more enjoyable.\n",
    "\n",
    "\n",
    "\n"
   ]
  },
  {
   "cell_type": "markdown",
   "id": "fc8760ec",
   "metadata": {},
   "source": [
    "# Basics of building functions in Python\n",
    "\n",
    "In order to tell the model for the spread of resistance how to deploy antibiotics you need to build a function that says which antibiotics to use based on So far you've used many functions in this course and in Variation 1 to manipulate, analyse and plot data with Python. However, you do not simply have to rely on functions from the In Python you can create a function using the word `def`. Let's look at a simple example to beign.\n"
   ]
  },
  {
   "cell_type": "code",
   "execution_count": 5,
   "id": "23c0ee22",
   "metadata": {},
   "outputs": [],
   "source": [
    "def my_hello_function():\n",
    "    print(\"My function says hello!\") "
   ]
  },
  {
   "cell_type": "markdown",
   "id": "d25f5f07",
   "metadata": {},
   "source": [
    "This piece of code defines a very simple function, which we have names `my_hello_function` that will print the words \"My function says hello!\" when we call the function. We can now call the function by typing the function name followed by parentheses.\n"
   ]
  },
  {
   "cell_type": "code",
   "execution_count": 6,
   "id": "ac1a3ae4",
   "metadata": {
    "scrolled": true
   },
   "outputs": [
    {
     "name": "stdout",
     "output_type": "stream",
     "text": [
      "My function says hello!\n"
     ]
    }
   ],
   "source": [
    "my_hello_function()"
   ]
  },
  {
   "cell_type": "markdown",
   "id": "c9f35e1e",
   "metadata": {},
   "source": [
    "However, generally when we call a function we want to pass something to the function, which it will then modify or use in some way. This information can be passed to the function as arguments. Your function can have as many arguments added to it as you want. Arguments are specified inside the paraentheses after the function name, and should be separated by commas. Let's build a simple function for addition to see how it works."
   ]
  },
  {
   "cell_type": "code",
   "execution_count": 16,
   "id": "4433c56f",
   "metadata": {
    "scrolled": true
   },
   "outputs": [],
   "source": [
    "def my_addition_function(x,y):\n",
    "    return x+y"
   ]
  },
  {
   "cell_type": "code",
   "execution_count": 17,
   "id": "1fb0fddd",
   "metadata": {
    "scrolled": true
   },
   "outputs": [
    {
     "data": {
      "text/plain": [
       "13"
      ]
     },
     "execution_count": 17,
     "metadata": {},
     "output_type": "execute_result"
    }
   ],
   "source": [
    "my_addition_function(9,4)"
   ]
  },
  {
   "cell_type": "markdown",
   "id": "c1eec88d",
   "metadata": {},
   "source": [
    "In this example we have specified two arguments, x and y, which the function will add together, and return the calculated value. What the function should return is indicated with the `return` keyword. We can add further complexity to our function by adding logical conditions to our functions. For example let's imagine we want our function tell us which of x and y are larger."
   ]
  },
  {
   "cell_type": "code",
   "execution_count": 13,
   "id": "5d188250",
   "metadata": {
    "scrolled": true
   },
   "outputs": [],
   "source": [
    "def whichlarger_function(x,y):\n",
    "    if (x>y):\n",
    "        return \"x is larger\"\n",
    "    elif (x<y):\n",
    "        return \"y is larger\"\n",
    "    else:\n",
    "        return \"x and y are equal\"\n"
   ]
  },
  {
   "cell_type": "markdown",
   "id": "284fdf9e",
   "metadata": {},
   "source": [
    "Here the function first asks if x>y using the `if` keyword, and if so it will return the text \"x is larger\" and the function call ends. We next use the `elif` keyword (shorthand for \"else if\") to tell the function to evaluate whether x<y, and if so return \"y is larger\". However, `elif` will only evaluate this when our previous previous `if` statement was not true. Finally, we use the `else` keyword to return \"x and y are equal\" if neither of our previous statements were true. Let's call this function with a few combinations of numbers to see how it behaves."
   ]
  },
  {
   "cell_type": "code",
   "execution_count": 18,
   "id": "4d8ba24c",
   "metadata": {
    "scrolled": false
   },
   "outputs": [
    {
     "data": {
      "text/plain": [
       "'y is larger'"
      ]
     },
     "execution_count": 18,
     "metadata": {},
     "output_type": "execute_result"
    }
   ],
   "source": [
    "whichlarger_function(2,4)"
   ]
  },
  {
   "cell_type": "code",
   "execution_count": 19,
   "id": "e05cb202",
   "metadata": {
    "scrolled": false
   },
   "outputs": [
    {
     "data": {
      "text/plain": [
       "'x is larger'"
      ]
     },
     "execution_count": 19,
     "metadata": {},
     "output_type": "execute_result"
    }
   ],
   "source": [
    "whichlarger_function(6,5)"
   ]
  },
  {
   "cell_type": "code",
   "execution_count": 20,
   "id": "af7889e8",
   "metadata": {
    "scrolled": true
   },
   "outputs": [
    {
     "data": {
      "text/plain": [
       "'x and y are equal'"
      ]
     },
     "execution_count": 20,
     "metadata": {},
     "output_type": "execute_result"
    }
   ],
   "source": [
    "whichlarger_function(3,3)"
   ]
  },
  {
   "cell_type": "markdown",
   "id": "f682a6df",
   "metadata": {},
   "source": [
    "Finally, we can also have our functions generate random numbers to allow for variability in their output. To do this we first need to import the `random` module. "
   ]
  },
  {
   "cell_type": "code",
   "execution_count": 1,
   "id": "ec469e81",
   "metadata": {},
   "outputs": [],
   "source": [
    "import random"
   ]
  },
  {
   "cell_type": "markdown",
   "id": "dc6a73df",
   "metadata": {},
   "source": [
    "The random function from this module generates a random number between 0 and 1. We can see how the function works below. Each time you run it it will give you a different random number."
   ]
  },
  {
   "cell_type": "code",
   "execution_count": 14,
   "id": "028f27fa",
   "metadata": {},
   "outputs": [
    {
     "data": {
      "text/plain": [
       "0.2503803768597964"
      ]
     },
     "execution_count": 14,
     "metadata": {},
     "output_type": "execute_result"
    }
   ],
   "source": [
    "random.random()"
   ]
  },
  {
   "cell_type": "markdown",
   "id": "2ab629b8",
   "metadata": {},
   "source": [
    "Let's now make a function called `bigger_than_random` that compares a number that we give it to a random number and tells us which is bigger."
   ]
  },
  {
   "cell_type": "code",
   "execution_count": 15,
   "id": "84d709d7",
   "metadata": {},
   "outputs": [],
   "source": [
    "def bigger_than_random(x):\n",
    "    y=random.random()\n",
    "    if (x>y):\n",
    "        return \"x is larger\"\n",
    "    elif (x<y):\n",
    "        return \"y is larger\"\n",
    "    else:\n",
    "        return \"x and y are equal\""
   ]
  },
  {
   "cell_type": "markdown",
   "id": "0233a323",
   "metadata": {},
   "source": [
    "We can now run this function to ask if a random number between 0 and 1 is bigger or smaller than the number we pass to the function."
   ]
  },
  {
   "cell_type": "code",
   "execution_count": 17,
   "id": "7d75ca0d",
   "metadata": {},
   "outputs": [
    {
     "data": {
      "text/plain": [
       "'x is larger'"
      ]
     },
     "execution_count": 17,
     "metadata": {},
     "output_type": "execute_result"
    }
   ],
   "source": [
    "bigger_than_random(0.6)"
   ]
  },
  {
   "cell_type": "markdown",
   "id": "c7ad8da7",
   "metadata": {},
   "source": [
    "# Model simulating resistance spread in a hospital\n",
    "\n",
    "You have been supplied with a computer simulation of the spread of antimicrobial resistance in a hospital. Here are some details about the model:\n",
    "* In the model there are two different antibiotics that can be used by doctors in the hospital, drug A and drug B.\n",
    "* The bacteria can have four different types:\n",
    "    1. Sensitive to both antibiotics (`sensitive`)\n",
    "    2. Resistant to drug A and sensitive to drug B (`reisitant_A`)\n",
    "    3. Resistant to drug B and sensitive to drug A (`reisitant_B`)\n",
    "    4. Resistant to both drugs (`resistant_AB`).\n",
    "* Drug A is better at killing the bacteria, helping patients clear their infection twice as fast as drug B when the infecting bacteria are sensitive to it.\n",
    "* The infection is potentially lethal, with each infected patient having a 1% chance of dying each day.\n",
    "* The model will simulate 5,000 days every time that you run it.\n",
    "* Each simulation will begin with only sensitive bacteria, but resistance to both drugs will begin to appear by mutation.\n",
    "* How fast resistance to each drug will spread will depend on how you decide to allocate antibiotics during the simulation.\n",
    "\n",
    "You task is to write a function that decides each day what proportion of patients should be treated with drug A and what proportion with drug B. **Your ultimate goal here is to minimise the number of deaths that occur during the simulation.**\n",
    "\n",
    "To get started we'll load the module `AMR_model` that contains the model."
   ]
  },
  {
   "cell_type": "code",
   "execution_count": 2,
   "id": "a22a7a28",
   "metadata": {
    "scrolled": true
   },
   "outputs": [],
   "source": [
    "import AMR_model as model"
   ]
  },
  {
   "cell_type": "markdown",
   "id": "55730fdb",
   "metadata": {},
   "source": [
    "This module contains a function called `run_model`, which will run the computer simulation of the spread of resistance in the hospital. This `run_model` function takes only one input, which is a function that decides for that day what proportion of patients (`pA`) should be treated with drug A and what proportion should be treated with drug B (`pB`). We'll call this your **allocation function**. You are given **5 inputs** which must be passed to your allocation function. These are:\n",
    "   1. The current day of the simulation (`day`)\n",
    "   2. The prevalence of infections that are sensitive to both antibiotics (`sensitive`)\n",
    "   3. The prevalence of infections that are resistant to drug A and sensitive to drug B (`reisitant_A`)\n",
    "   4. The prevalence of infections that are resistant to drug B and sensitive to drug A (`reisitant_B`)\n",
    "   5. The prevalence of infections that are resistant to both drugs (`reisitant_AB`)\n",
    "   \n",
    "Prevalence here is the proportion of patients with that infection.\n",
    "\n",
    "**Note that `pA` and `pB` must add up to 1 exactly. Otherwise the model will simply not treat any patients at all, so be careful to ensure that this is always the case!**\n",
    "\n",
    "Let's look at a simple example function to see how this works."
   ]
  },
  {
   "cell_type": "code",
   "execution_count": 3,
   "id": "e1880813",
   "metadata": {},
   "outputs": [],
   "source": [
    "def use_the_bad_drug(day,sensitive,reisitant_A,reisitant_B,reisitant_AB):\n",
    "    pA=0\n",
    "    pB=1\n",
    "    return(pA,pB)\n"
   ]
  },
  {
   "cell_type": "markdown",
   "id": "6ba075a5",
   "metadata": {},
   "source": [
    "This function simply returns a value for pA of 0, meaning that no patients will recieve drug A (which was the better drug). We can now run simulation with this function and store the results in `results` using the code below."
   ]
  },
  {
   "cell_type": "code",
   "execution_count": 4,
   "id": "207294c8",
   "metadata": {},
   "outputs": [],
   "source": [
    "results=model.AMR_model(use_the_bad_drug)"
   ]
  },
  {
   "cell_type": "markdown",
   "id": "6e7a8c5c",
   "metadata": {},
   "source": [
    "We can now import `pandas` and explore the dataframe as usual."
   ]
  },
  {
   "cell_type": "code",
   "execution_count": 5,
   "id": "61d79b71",
   "metadata": {
    "scrolled": false
   },
   "outputs": [
    {
     "data": {
      "text/html": [
       "<div>\n",
       "<style scoped>\n",
       "    .dataframe tbody tr th:only-of-type {\n",
       "        vertical-align: middle;\n",
       "    }\n",
       "\n",
       "    .dataframe tbody tr th {\n",
       "        vertical-align: top;\n",
       "    }\n",
       "\n",
       "    .dataframe thead th {\n",
       "        text-align: right;\n",
       "    }\n",
       "</style>\n",
       "<table border=\"1\" class=\"dataframe\">\n",
       "  <thead>\n",
       "    <tr style=\"text-align: right;\">\n",
       "      <th></th>\n",
       "      <th>day</th>\n",
       "      <th>usage_A</th>\n",
       "      <th>usage_B</th>\n",
       "      <th>sensitive</th>\n",
       "      <th>resistant_A</th>\n",
       "      <th>resistant_B</th>\n",
       "      <th>resistant_AB</th>\n",
       "      <th>deaths</th>\n",
       "    </tr>\n",
       "  </thead>\n",
       "  <tbody>\n",
       "    <tr>\n",
       "      <th>1</th>\n",
       "      <td>1</td>\n",
       "      <td>0</td>\n",
       "      <td>1</td>\n",
       "      <td>0.696486</td>\n",
       "      <td>0.000007</td>\n",
       "      <td>0.000007</td>\n",
       "      <td>1.392972e-10</td>\n",
       "      <td>348.249965</td>\n",
       "    </tr>\n",
       "    <tr>\n",
       "      <th>2</th>\n",
       "      <td>2</td>\n",
       "      <td>0</td>\n",
       "      <td>1</td>\n",
       "      <td>0.693112</td>\n",
       "      <td>0.000014</td>\n",
       "      <td>0.000014</td>\n",
       "      <td>4.160759e-10</td>\n",
       "      <td>346.569630</td>\n",
       "    </tr>\n",
       "    <tr>\n",
       "      <th>3</th>\n",
       "      <td>3</td>\n",
       "      <td>0</td>\n",
       "      <td>1</td>\n",
       "      <td>0.689870</td>\n",
       "      <td>0.000021</td>\n",
       "      <td>0.000021</td>\n",
       "      <td>8.286776e-10</td>\n",
       "      <td>344.955643</td>\n",
       "    </tr>\n",
       "    <tr>\n",
       "      <th>4</th>\n",
       "      <td>4</td>\n",
       "      <td>0</td>\n",
       "      <td>1</td>\n",
       "      <td>0.686755</td>\n",
       "      <td>0.000027</td>\n",
       "      <td>0.000028</td>\n",
       "      <td>1.375589e-09</td>\n",
       "      <td>343.404852</td>\n",
       "    </tr>\n",
       "    <tr>\n",
       "      <th>5</th>\n",
       "      <td>5</td>\n",
       "      <td>0</td>\n",
       "      <td>1</td>\n",
       "      <td>0.683760</td>\n",
       "      <td>0.000034</td>\n",
       "      <td>0.000034</td>\n",
       "      <td>2.055431e-09</td>\n",
       "      <td>341.914292</td>\n",
       "    </tr>\n",
       "    <tr>\n",
       "      <th>6</th>\n",
       "      <td>6</td>\n",
       "      <td>0</td>\n",
       "      <td>1</td>\n",
       "      <td>0.680881</td>\n",
       "      <td>0.000041</td>\n",
       "      <td>0.000041</td>\n",
       "      <td>2.866947e-09</td>\n",
       "      <td>340.481172</td>\n",
       "    </tr>\n",
       "    <tr>\n",
       "      <th>7</th>\n",
       "      <td>7</td>\n",
       "      <td>0</td>\n",
       "      <td>1</td>\n",
       "      <td>0.678111</td>\n",
       "      <td>0.000047</td>\n",
       "      <td>0.000048</td>\n",
       "      <td>3.808996e-09</td>\n",
       "      <td>339.102858</td>\n",
       "    </tr>\n",
       "    <tr>\n",
       "      <th>8</th>\n",
       "      <td>8</td>\n",
       "      <td>0</td>\n",
       "      <td>1</td>\n",
       "      <td>0.675445</td>\n",
       "      <td>0.000053</td>\n",
       "      <td>0.000055</td>\n",
       "      <td>4.880542e-09</td>\n",
       "      <td>337.776868</td>\n",
       "    </tr>\n",
       "    <tr>\n",
       "      <th>9</th>\n",
       "      <td>9</td>\n",
       "      <td>0</td>\n",
       "      <td>1</td>\n",
       "      <td>0.672880</td>\n",
       "      <td>0.000060</td>\n",
       "      <td>0.000062</td>\n",
       "      <td>6.080647e-09</td>\n",
       "      <td>336.500856</td>\n",
       "    </tr>\n",
       "    <tr>\n",
       "      <th>10</th>\n",
       "      <td>10</td>\n",
       "      <td>0</td>\n",
       "      <td>1</td>\n",
       "      <td>0.670411</td>\n",
       "      <td>0.000066</td>\n",
       "      <td>0.000068</td>\n",
       "      <td>7.408465e-09</td>\n",
       "      <td>335.272608</td>\n",
       "    </tr>\n",
       "  </tbody>\n",
       "</table>\n",
       "</div>"
      ],
      "text/plain": [
       "    day  usage_A  usage_B  sensitive  resistant_A  resistant_B  resistant_AB  \\\n",
       "1     1        0        1   0.696486     0.000007     0.000007  1.392972e-10   \n",
       "2     2        0        1   0.693112     0.000014     0.000014  4.160759e-10   \n",
       "3     3        0        1   0.689870     0.000021     0.000021  8.286776e-10   \n",
       "4     4        0        1   0.686755     0.000027     0.000028  1.375589e-09   \n",
       "5     5        0        1   0.683760     0.000034     0.000034  2.055431e-09   \n",
       "6     6        0        1   0.680881     0.000041     0.000041  2.866947e-09   \n",
       "7     7        0        1   0.678111     0.000047     0.000048  3.808996e-09   \n",
       "8     8        0        1   0.675445     0.000053     0.000055  4.880542e-09   \n",
       "9     9        0        1   0.672880     0.000060     0.000062  6.080647e-09   \n",
       "10   10        0        1   0.670411     0.000066     0.000068  7.408465e-09   \n",
       "\n",
       "        deaths  \n",
       "1   348.249965  \n",
       "2   346.569630  \n",
       "3   344.955643  \n",
       "4   343.404852  \n",
       "5   341.914292  \n",
       "6   340.481172  \n",
       "7   339.102858  \n",
       "8   337.776868  \n",
       "9   336.500856  \n",
       "10  335.272608  "
      ]
     },
     "execution_count": 5,
     "metadata": {},
     "output_type": "execute_result"
    }
   ],
   "source": [
    "import pandas\n",
    "results.head(10)"
   ]
  },
  {
   "cell_type": "markdown",
   "id": "fc9a49f9",
   "metadata": {},
   "source": [
    "The columns here give:\n",
    "* The day in the simulation\n",
    "* The level of usage of drug A\n",
    "* The level of usage of drug B\n",
    "* `sensitive`, `resistant_A`, `resistant_B`, and `resistant_AB` have been explained above.\n",
    "* And the death rate observed per day per 100,000 patients.\n",
    "\n",
    "We can now plot this data to see what happened during the simulation."
   ]
  },
  {
   "cell_type": "code",
   "execution_count": 21,
   "id": "5a83fa3f",
   "metadata": {
    "scrolled": true
   },
   "outputs": [
    {
     "data": {
      "image/png": "[encoded data removed]",
      "text/plain": [
       "<Figure size 1200x400 with 3 Axes>"
      ]
     },
     "metadata": {},
     "output_type": "display_data"
    }
   ],
   "source": [
    "import matplotlib.pyplot as plt\n",
    "import numpy as np\n",
    "fig = plt.figure(figsize=(12, 4))\n",
    "ax1 = fig.add_subplot(131)\n",
    "plt.plot(\"day\", \"sensitive\",data=results)\n",
    "plt.plot(\"day\", \"resistant_A\",data=results)\n",
    "plt.plot(\"day\", \"resistant_B\",data=results)\n",
    "plt.plot(\"day\", \"resistant_AB\",data=results)\n",
    "plt.ylim((0, 1))\n",
    "plt.xlabel('Day')\n",
    "plt.ylabel('Prevalence')\n",
    "plt.legend(['Sensitive', 'Resistant to A', 'Resistant to B', 'Resistant to A and B'])\n",
    "ax2 = fig.add_subplot(132)\n",
    "plt.plot(\"day\", \"usage_A\",data=results)\n",
    "plt.plot(\"day\", \"usage_B\",data=results)\n",
    "plt.xlabel('Day')\n",
    "plt.ylabel('Usage of Antibiotic (proportion)')\n",
    "plt.legend(['A', 'B'])\n",
    "average_deaths=np.mean(results.deaths)\n",
    "ax3 = fig.add_subplot(133)\n",
    "plt.plot(\"day\", \"deaths\",data=results)\n",
    "plt.xlabel('Day')\n",
    "plt.ylabel('Deaths per 100,000')\n",
    "plt.subplots_adjust(wspace=0.4)\n",
    "plt.show()"
   ]
  },
  {
   "cell_type": "markdown",
   "id": "c3027c84",
   "metadata": {},
   "source": [
    "We can see here that resistance to drug B quickly appeared and was common within 2000 days. We can also see that deaths initially decreased as we began using the drug, but then increased as resistance increased. We can calculate the total deaths per 100,000 people across the simulation by summing `deaths`."
   ]
  },
  {
   "cell_type": "code",
   "execution_count": 22,
   "id": "0612ec57",
   "metadata": {},
   "outputs": [
    {
     "data": {
      "text/plain": [
       "1638974.9897588708"
      ]
     },
     "execution_count": 22,
     "metadata": {},
     "output_type": "execute_result"
    }
   ],
   "source": [
    "sum(results.deaths)"
   ]
  },
  {
   "cell_type": "markdown",
   "id": "0d48564e",
   "metadata": {},
   "source": [
    "# Task – writing your own function\n",
    "\n",
    "Now it's your turn to write a function to allocate drugs. Your function is passed information on the current day of the simulation, and the prevalence of each type of bacterial infection. You can use this information in your decisions in the function. For example, you could start using antibiotic A, then switch to antibiotic B after 2500 days.\n",
    "\n",
    "```Python\n",
    "def switch_half_way(day,sensitive,reisitant_A,reisitant_B,reisitant_AB):\n",
    "    if (day<2500):\n",
    "        pA=1\n",
    "        pB=0\n",
    "        return(pA,pB)\n",
    "    else:\n",
    "        pA=0\n",
    "        pB=1\n",
    "        return(pA,pB)\n",
    "\n",
    "```\n",
    "\n",
    "Or we could use A so long as the prevalence of A is lower than some threshold\n",
    "\n",
    "```Python\n",
    "def use_A_unless_common(day,sensitive,reisitant_A,reisitant_B,reisitant_AB):\n",
    "    if (reisitant_A<0.3):\n",
    "        pA=1\n",
    "        pB=0\n",
    "        return(pA,pB)\n",
    "    else:\n",
    "        pA=0\n",
    "        pB=1\n",
    "        return(pA,pB)\n",
    "\n",
    "```\n",
    "\n",
    "The possibilities are endless, so use your imagination. Try to think of what would stop resistance to the drugs becoming common, but also save as many patients as possible. **Make sure to discuss your ideas and your code with others in your group!** You can repeatedly modify your function to help improve it. You can use the code given above to plot your function's consequences and calculate the total deaths that occur in the hospital.\n",
    "\n",
    "**At the end of the session you should add the code for your function and a short (~150 words) explanation for how it works in your labbook**"
   ]
  },
  {
   "cell_type": "code",
   "execution_count": null,
   "id": "45edf5c7",
   "metadata": {},
   "outputs": [],
   "source": []
  }
 ],
 "metadata": {
  "kernelspec": {
   "display_name": "Python 3 (ipykernel)",
   "language": "python",
   "name": "python3"
  },
  "language_info": {
   "codemirror_mode": {
    "name": "ipython",
    "version": 3
   },
   "file_extension": ".py",
   "mimetype": "text/x-python",
   "name": "python",
   "nbconvert_exporter": "python",
   "pygments_lexer": "ipython3",
   "version": "3.9.13"
  }
 },
 "nbformat": 4,
 "nbformat_minor": 5
}
